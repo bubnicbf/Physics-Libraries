{
 "cells": [
  {
   "attachments": {
    "Bcake.jpg": {
     "image/jpeg": ""
    }
   },
   "cell_type": "markdown",
   "metadata": {},
   "source": [
    "<h1><center> The Birthday Paradox</center></h1>\n",
    "\n",
    "\n",
    "![Bcake.jpg](attachment:Bcake.jpg)\n",
    "\n",
    "\n",
    "There is a pretty famous paradox regarding the birthdays of people: \n",
    "\n",
    "#### 'If you gather 23 people in a room and ask them what day they were born, there is a 50% chance that at least two people were born in the same day'\n",
    "\n",
    "Sounds kind of odd, right? There are 365 days in the year to choose the birthdays from, so 23 people seems like not enough to have a 50-50 chance of getting a match.\n",
    "\n",
    "Showing that this is actually true is pretty straightforward. Let's begin by asking ourselves: \n",
    "\n",
    "#### if we have just 2 people what are the chances of them NOT having the same birthday?\n",
    "\n",
    "That is pretty easy and we will call it $P_{2}(\\textbf{NO})$. The first person can choose whatever day they like. The second person can only choose from the remaining 364 days. This means that the chances of our birthdays being different are:\n",
    "\n",
    "\\begin{equation}\n",
    "P_{2}(\\textbf{NO}) = \\frac{364}{365} = 0.99726\n",
    "\\end{equation}\n",
    "\n",
    "Which means that 99.73% of the times (almost always) our birthdays won't match. So how come there is almost no chance of having a match when we consider 2 people, but there is a 50-50 chance when we consider 23 people? To answer that we need to look at \n",
    "\n",
    "#### how many pairs can we form with 23 people available?\n",
    "That's a common question in combinatorics: \"how many groups of 2 items can we form from a collection of 23 items, disregarding order?\" That's just $C(23, 2)$ which is given by:\n",
    "\n",
    "\\begin{equation}\n",
    "C(n, k) = \\frac{n!}{(n-k)!k!}\n",
    "\\end{equation}\n",
    "\n",
    "In this case there are 253 distinct pairs in a group of 23 people.\n",
    "\n",
    "\\begin{equation}\n",
    "C(23, 2) = \\frac{23!}{(21)!2!} = \\frac{23 \\cdot 22}{2} = 253\n",
    "\\end{equation}\n",
    "\n",
    "At this point we can tackle our real question:\n",
    "\n",
    "#### what is the probability of at least 2 people having the exact same birthday in a group of 23\n",
    "Let's call that $P_{23}(\\textbf{YES})$. Like in many other situations when dealing with probability, it is easier to work out the opposite situation $P_{23}(\\textbf{NO})$ and realise that the probabilities must add up to 1. So, what is the probability of 2 people NOT having the same birthday in a group of 23?\n",
    "\n",
    "Well, we know that the probability of that for a single pair is $\\frac{364}{365}$. When the group is 23, that needs to hold for every possible pair of 2 people within the group, in this case 253 pairs. This is a typical case of conditional probability, similar to the question of \"what are the chances of getting tails in 5 consecutive coin tosses\". \n",
    "\n",
    "\\begin{equation}\n",
    "P(A, B, C, \\dots) = P(A) P(B) P(C) \\dots \n",
    "\\end{equation}\n",
    "\n",
    "So in our case when all probabilities $P_{2}(\\textbf{NO})$ are identical, the formula boils down to the chances to multiplying $P_{2}(\\textbf{NO})$ as many times as there are pairs in our group of 23\n",
    "\n",
    "\\begin{equation}\n",
    "P_{23}(\\textbf{NO}) = (P_{2}(\\textbf{NO}))^{253} = \\left(\\frac{364}{365}\\right)^{253} = 0.49952\n",
    "\\end{equation}\n",
    "\n",
    "What we just found is the opposite to what we were looking for $P_{23}(\\textbf{YES})$ so\n",
    "\n",
    "\\begin{equation}\n",
    "P_{23}(\\textbf{YES}) = 1 - P_{23}(\\textbf{NO}) \\simeq 0.50\n",
    "\\end{equation}\n",
    "\n",
    "In conclusion, it really is true that the chances in a group of 23 people are essentially 50%."
   ]
  },
  {
   "cell_type": "markdown",
   "metadata": {},
   "source": [
    "### Putting the Paradox to the test\n",
    "In case you are a skeptic and do not fully believe in the formulas from above, you still have a powerful tool to work this problem out: using brute force and a computer. We will use the good old method for working probabilities of running the experiment thousands of times and simple report the observed frequencies\n",
    "\n"
   ]
  },
  {
   "cell_type": "code",
   "execution_count": 1,
   "metadata": {
    "collapsed": true
   },
   "outputs": [],
   "source": [
    "import numpy as np\n",
    "import matplotlib.pyplot as plt"
   ]
  },
  {
   "cell_type": "code",
   "execution_count": 31,
   "metadata": {
    "collapsed": true
   },
   "outputs": [],
   "source": [
    "def check_birthdays(N_people, N_runs, display=True):\n",
    "    \"\"\"\n",
    "    Randomly chooses the birthdays of N_people\n",
    "    Checks whether some birthdays are the same\n",
    "    Repeats the process N_runs\n",
    "    \"\"\"\n",
    "    N_days = 365\n",
    "    counts = 0\n",
    "    for k in range(N_runs):\n",
    "        days = np.random.choice(N_days, N_people)\n",
    "        unique_days = np.unique(days)\n",
    "        if unique_days.shape[0] != N_people:\n",
    "            counts += 1\n",
    "            \n",
    "    if display:\n",
    "        print('Checking the birthdays of %d people (%d runs)' %(N_people, N_runs))\n",
    "        print('%d out of %d times a birthday was repeated' %(counts, N_runs))\n",
    "    return counts/N_runs  \n",
    "    "
   ]
  },
  {
   "cell_type": "code",
   "execution_count": 34,
   "metadata": {},
   "outputs": [
    {
     "name": "stdout",
     "output_type": "stream",
     "text": [
      "Checking the birthdays of 23 people (1000 runs)\n",
      "477 out of 1000 times a birthday was repeated\n"
     ]
    }
   ],
   "source": [
    "N_runs = 1000\n",
    "N_people = 23\n",
    "\n",
    "p = check_birthdays(N_people, N_runs)"
   ]
  },
  {
   "cell_type": "markdown",
   "metadata": {},
   "source": [
    "We can see that the birthdays tend to be repeated around 50% of the times, just like the paradox indicated, which confirms that our reasoning was correct."
   ]
  },
  {
   "cell_type": "markdown",
   "metadata": {},
   "source": [
    "### Generalization to any group of people\n",
    "\n",
    "We have just looked at the case of 23 people, but it is easy to generalize our formulas to a group containing any number $n$ of people. We just need to know how many possible pairs can we form, which is given by:\n",
    "\n",
    "\\begin{equation}\n",
    "C(n, 2) = \\frac{n!}{(n-2)!2!} = \\frac{n (n-1)}{2}\n",
    "\\end{equation}\n",
    "\n",
    "And combine the probability of not having the same birthday in a single pair, that many times.\n",
    "\n",
    "\\begin{equation}\n",
    "P_n(\\textbf{YES}) = 1 - P_n(\\textbf{NO}) = 1 - \\left( \\frac{364}{365} \\right)^{n (n-1)/2}\n",
    "\\end{equation}"
   ]
  },
  {
   "cell_type": "markdown",
   "metadata": {},
   "source": [
    "### Testing for the general case\n",
    "\n",
    "Now that we have a formula that tells us the probability for any group size $n$ and a function that estimates that probability numerically, we can generalize our test to any number of people and see if the results are consistent"
   ]
  },
  {
   "cell_type": "code",
   "execution_count": 35,
   "metadata": {},
   "outputs": [],
   "source": [
    "def formal_probability(N_people):\n",
    "    n = N_people * (N_people - 1) / 2\n",
    "    P = 1 - (364/365)**n\n",
    "    return P\n",
    "\n",
    "N_max = 100\n",
    "group_sizes = np.arange(2, 100)\n",
    "theoretical = []\n",
    "numerical = []\n",
    "\n",
    "for group_size in group_sizes:\n",
    "    theoretical.append(formal_probability(group_size))\n",
    "    numerical.append(check_birthdays(group_size, N_runs, display=False))\n",
    "    "
   ]
  },
  {
   "cell_type": "code",
   "execution_count": 43,
   "metadata": {},
   "outputs": [
    {
     "data": {
      "image/png": "[encoded data removed]",
      "text/plain": [
       "<matplotlib.figure.Figure at 0x7f78df7ddda0>"
      ]
     },
     "metadata": {},
     "output_type": "display_data"
    }
   ],
   "source": [
    "plt.figure()\n",
    "plt.plot(group_sizes, theoretical, label='Theoretical')\n",
    "plt.scatter(group_sizes, numerical, label='Numerical', s=5, color='Red')\n",
    "plt.legend(title='Method')\n",
    "plt.xlabel('Number of People in the Group')\n",
    "plt.title('Probability of at least 2 people having the same birthday')\n",
    "plt.show()"
   ]
  },
  {
   "cell_type": "markdown",
   "metadata": {},
   "source": [
    "We can see that the numerical results match the theoretical predictions quite well and that for group sizes of more around 50 people or more, there essentially no chance of everyone having different birthdays."
   ]
  },
  {
   "cell_type": "code",
   "execution_count": null,
   "metadata": {},
   "outputs": [],
   "source": []
  },
  {
   "cell_type": "code",
   "execution_count": null,
   "metadata": {
    "collapsed": true
   },
   "outputs": [],
   "source": []
  }
 ],
 "metadata": {
  "kernelspec": {
   "display_name": "Python 3",
   "language": "python",
   "name": "python3"
  },
  "language_info": {
   "codemirror_mode": {
    "name": "ipython",
    "version": 3
   },
   "file_extension": ".py",
   "mimetype": "text/x-python",
   "name": "python",
   "nbconvert_exporter": "python",
   "pygments_lexer": "ipython3",
   "version": "3.6.3"
  }
 },
 "nbformat": 4,
 "nbformat_minor": 2
}